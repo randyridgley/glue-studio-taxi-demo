{
 "cells": [
  {
   "cell_type": "code",
   "execution_count": 25,
   "metadata": {},
   "outputs": [],
   "source": [
    "import boto3\n",
    "import botocore\n",
    "import json\n",
    "import os\n",
    "import uuid\n",
    "import pandas as pd\n",
    "\n",
    "glue = boto3.client('glue')\n",
    "s3 = boto3.resource('s3')\n",
    "s3_client = boto3.client('s3')\n",
    "lf = boto3.client('lakeformation')\n",
    "cfn = boto3.client('cloudformation')\n",
    "\n",
    "session = boto3.session.Session()\n",
    "region = session.region_name\n",
    "account_id = boto3.client('sts').get_caller_identity().get('Account')"
   ]
  },
  {
   "cell_type": "markdown",
   "metadata": {},
   "source": [
    "#### Get the Outputs from the CloudFormation template"
   ]
  },
  {
   "cell_type": "code",
   "execution_count": 26,
   "metadata": {},
   "outputs": [
    {
     "data": {
      "text/html": [
       "<div>\n",
       "<style scoped>\n",
       "    .dataframe tbody tr th:only-of-type {\n",
       "        vertical-align: middle;\n",
       "    }\n",
       "\n",
       "    .dataframe tbody tr th {\n",
       "        vertical-align: top;\n",
       "    }\n",
       "\n",
       "    .dataframe thead th {\n",
       "        text-align: right;\n",
       "    }\n",
       "</style>\n",
       "<table border=\"1\" class=\"dataframe\">\n",
       "  <thead>\n",
       "    <tr style=\"text-align: right;\">\n",
       "      <th></th>\n",
       "      <th>OutputKey</th>\n",
       "      <th>OutputValue</th>\n",
       "    </tr>\n",
       "  </thead>\n",
       "  <tbody>\n",
       "    <tr>\n",
       "      <th>0</th>\n",
       "      <td>DataLakeBucketName</td>\n",
       "      <td>cdkstack-datalakebucket0256ea8e-9udetjkhnv8h</td>\n",
       "    </tr>\n",
       "    <tr>\n",
       "      <th>1</th>\n",
       "      <td>TaxiDatabase</td>\n",
       "      <td>taxi_demo</td>\n",
       "    </tr>\n",
       "    <tr>\n",
       "      <th>2</th>\n",
       "      <td>DataLakeRoleArn</td>\n",
       "      <td>arn:aws:iam::649037252677:role/GlueStudioDataLakeServiceLinkedRole</td>\n",
       "    </tr>\n",
       "  </tbody>\n",
       "</table>\n",
       "</div>"
      ],
      "text/plain": [
       "            OutputKey  \\\n",
       "0  DataLakeBucketName   \n",
       "1        TaxiDatabase   \n",
       "2     DataLakeRoleArn   \n",
       "\n",
       "                                                          OutputValue  \n",
       "0                        cdkstack-datalakebucket0256ea8e-9udetjkhnv8h  \n",
       "1                                                           taxi_demo  \n",
       "2  arn:aws:iam::649037252677:role/GlueStudioDataLakeServiceLinkedRole  "
      ]
     },
     "execution_count": 26,
     "metadata": {},
     "output_type": "execute_result"
    }
   ],
   "source": [
    "response = cfn.describe_stacks(\n",
    "    StackName='CdkStack'\n",
    ")\n",
    "\n",
    "outputs = response['Stacks'][0]['Outputs']\n",
    "\n",
    "for output in outputs:\n",
    "    if (output['OutputKey'] == 'DataLakeBucketName'):\n",
    "        bucket = output['OutputValue']\n",
    "    if (output['OutputKey'] == 'TaxiDatabase'):\n",
    "        database_name = output['OutputValue']\n",
    "    if (output['OutputKey'] == 'DataLakeRoleArn'):\n",
    "        role_arn = output['OutputValue']\n",
    "    if (output['OutputKey'] == 'TaxiDataCrawler'):\n",
    "        data_crawler = output['OutputValue']        \n",
    "        \n",
    "pd.set_option('display.max_colwidth', None)\n",
    "pd.DataFrame(outputs, columns=[\"OutputKey\", \"OutputValue\"])"
   ]
  },
  {
   "cell_type": "markdown",
   "metadata": {},
   "source": [
    "### [Upload to S3](https://docs.aws.amazon.com/AmazonS3/latest/dev/Welcome.html)\n",
    "\n",
    "Next, we will upload the json files located in the `data` folder to S3 to be used later in the workshop. We are using a sample file from New York City Taxi and Limousine Commission (TLC) Trip Record Data dataset available on the [AWS Open Data Registry](https://registry.opendata.aws/nyc-tlc-trip-records-pds/)\n",
    "\n",
    "[s3.upload_file](https://boto3.amazonaws.com/v1/documentation/api/latest/reference/services/s3.html#S3.Client.upload_file) boto3 documentation"
   ]
  },
  {
   "cell_type": "code",
   "execution_count": 24,
   "metadata": {},
   "outputs": [],
   "source": [
    "file_name = 'yellow_tripdata_2020-06.csv'\n",
    "path = 'data'\n",
    "session.resource('s3').Bucket(bucket).Object(os.path.join('datalake', 'yellow', file_name)).upload_file(path + '/' + file_name)\n",
    "\n",
    "file_name = 'paymenttype.csv'\n",
    "path = 'data'\n",
    "session.resource('s3').Bucket(bucket).Object(os.path.join('datalake', 'paymenttype', file_name)).upload_file(path + '/' + file_name)\n",
    "\n",
    "file_name = 'ratecode.csv'\n",
    "session.resource('s3').Bucket(bucket).Object(os.path.join('datalake', 'ratecode', file_name)).upload_file(path + '/' + file_name)\n",
    "\n",
    "file_name = 'taxi_zone_lookup.csv'\n",
    "session.resource('s3').Bucket(bucket).Object(os.path.join('datalake', 'taxi_zone_lookup', file_name)).upload_file(path + '/' + file_name)"
   ]
  },
  {
   "cell_type": "markdown",
   "metadata": {},
   "source": [
    "#### Load Taxi Demo database with S3 data from Glue Crawler"
   ]
  },
  {
   "cell_type": "code",
   "execution_count": null,
   "metadata": {},
   "outputs": [],
   "source": [
    "glue.start_crawler(Name=data_crawler)"
   ]
  },
  {
   "cell_type": "code",
   "execution_count": null,
   "metadata": {},
   "outputs": [],
   "source": []
  }
 ],
 "metadata": {
  "kernelspec": {
   "display_name": "conda_python3",
   "language": "python",
   "name": "conda_python3"
  },
  "language_info": {
   "codemirror_mode": {
    "name": "ipython",
    "version": 3
   },
   "file_extension": ".py",
   "mimetype": "text/x-python",
   "name": "python",
   "nbconvert_exporter": "python",
   "pygments_lexer": "ipython3",
   "version": "3.6.10"
  }
 },
 "nbformat": 4,
 "nbformat_minor": 4
}
