{
 "cells": [
  {
   "cell_type": "code",
   "execution_count": 1,
   "metadata": {},
   "outputs": [],
   "source": [
    "import boto3\n",
    "import botocore\n",
    "import json\n",
    "import os\n",
    "import uuid\n",
    "import pandas as pd\n",
    "\n",
    "glue = boto3.client('glue')\n",
    "s3 = boto3.resource('s3')\n",
    "s3_client = boto3.client('s3')\n",
    "lf = boto3.client('lakeformation')\n",
    "cfn = boto3.client('cloudformation')\n",
    "\n",
    "session = boto3.session.Session()\n",
    "region = session.region_name\n",
    "account_id = boto3.client('sts').get_caller_identity().get('Account')"
   ]
  },
  {
   "cell_type": "markdown",
   "metadata": {},
   "source": [
    "#### Get the Outputs from the CloudFormation template"
   ]
  },
  {
   "cell_type": "code",
   "execution_count": 2,
   "metadata": {},
   "outputs": [
    {
     "data": {
      "text/html": [
       "<div>\n",
       "<style scoped>\n",
       "    .dataframe tbody tr th:only-of-type {\n",
       "        vertical-align: middle;\n",
       "    }\n",
       "\n",
       "    .dataframe tbody tr th {\n",
       "        vertical-align: top;\n",
       "    }\n",
       "\n",
       "    .dataframe thead th {\n",
       "        text-align: right;\n",
       "    }\n",
       "</style>\n",
       "<table border=\"1\" class=\"dataframe\">\n",
       "  <thead>\n",
       "    <tr style=\"text-align: right;\">\n",
       "      <th></th>\n",
       "      <th>OutputKey</th>\n",
       "      <th>OutputValue</th>\n",
       "    </tr>\n",
       "  </thead>\n",
       "  <tbody>\n",
       "    <tr>\n",
       "      <th>0</th>\n",
       "      <td>SageMakerNotebook</td>\n",
       "      <td>arn:aws:sagemaker:us-east-1:649037252677:notebook-instance/gluestudioprepnotebook</td>\n",
       "    </tr>\n",
       "    <tr>\n",
       "      <th>1</th>\n",
       "      <td>DataLakeBucketName</td>\n",
       "      <td>gluestudiodemostack-datalakebucket0256ea8e-gft03a97jrzl</td>\n",
       "    </tr>\n",
       "    <tr>\n",
       "      <th>2</th>\n",
       "      <td>TaxiDataCrawler</td>\n",
       "      <td>GlueStudioTaxiDemoCrawler</td>\n",
       "    </tr>\n",
       "    <tr>\n",
       "      <th>3</th>\n",
       "      <td>TaxiDatabase</td>\n",
       "      <td>taxi_demo</td>\n",
       "    </tr>\n",
       "    <tr>\n",
       "      <th>4</th>\n",
       "      <td>DataLakeRoleArn</td>\n",
       "      <td>arn:aws:iam::649037252677:role/GlueStudioDataLakeServiceLinkedRole</td>\n",
       "    </tr>\n",
       "  </tbody>\n",
       "</table>\n",
       "</div>"
      ],
      "text/plain": [
       "            OutputKey  \\\n",
       "0   SageMakerNotebook   \n",
       "1  DataLakeBucketName   \n",
       "2     TaxiDataCrawler   \n",
       "3        TaxiDatabase   \n",
       "4     DataLakeRoleArn   \n",
       "\n",
       "                                                                         OutputValue  \n",
       "0  arn:aws:sagemaker:us-east-1:649037252677:notebook-instance/gluestudioprepnotebook  \n",
       "1                            gluestudiodemostack-datalakebucket0256ea8e-gft03a97jrzl  \n",
       "2                                                          GlueStudioTaxiDemoCrawler  \n",
       "3                                                                          taxi_demo  \n",
       "4                 arn:aws:iam::649037252677:role/GlueStudioDataLakeServiceLinkedRole  "
      ]
     },
     "execution_count": 2,
     "metadata": {},
     "output_type": "execute_result"
    }
   ],
   "source": [
    "response = cfn.describe_stacks(\n",
    "    StackName='GlueStudioDemoStack'\n",
    ")\n",
    "\n",
    "outputs = response['Stacks'][0]['Outputs']\n",
    "\n",
    "for output in outputs:\n",
    "    if (output['OutputKey'] == 'DataLakeBucketName'):\n",
    "        bucket = output['OutputValue']\n",
    "    if (output['OutputKey'] == 'TaxiDatabase'):\n",
    "        database_name = output['OutputValue']\n",
    "    if (output['OutputKey'] == 'DataLakeRoleArn'):\n",
    "        role_arn = output['OutputValue']\n",
    "    if (output['OutputKey'] == 'TaxiDataCrawler'):\n",
    "        data_crawler = output['OutputValue']        \n",
    "        \n",
    "pd.set_option('display.max_colwidth', None)\n",
    "pd.DataFrame(outputs, columns=[\"OutputKey\", \"OutputValue\"])"
   ]
  },
  {
   "cell_type": "markdown",
   "metadata": {},
   "source": [
    "### [Upload to S3](https://docs.aws.amazon.com/AmazonS3/latest/dev/Welcome.html)\n",
    "\n",
    "Next, we will upload the json files located in the `data` folder to S3 to be used later in the workshop. We are using a sample file from New York City Taxi and Limousine Commission (TLC) Trip Record Data dataset available on the [AWS Open Data Registry](https://registry.opendata.aws/nyc-tlc-trip-records-pds/)\n",
    "\n",
    "[s3.upload_file](https://boto3.amazonaws.com/v1/documentation/api/latest/reference/services/s3.html#S3.Client.upload_file) boto3 documentation"
   ]
  },
  {
   "cell_type": "code",
   "execution_count": 3,
   "metadata": {},
   "outputs": [],
   "source": [
    "file_name = 'yellow_tripdata_2020-06.csv'\n",
    "path = 'data'\n",
    "session.resource('s3').Bucket(bucket).Object(os.path.join('datalake', 'yellow', file_name)).upload_file(path + '/' + file_name)\n",
    "\n",
    "file_name = 'paymenttype.csv'\n",
    "path = 'data'\n",
    "session.resource('s3').Bucket(bucket).Object(os.path.join('datalake', 'paymenttype', file_name)).upload_file(path + '/' + file_name)\n",
    "\n",
    "file_name = 'ratecode.csv'\n",
    "session.resource('s3').Bucket(bucket).Object(os.path.join('datalake', 'ratecode', file_name)).upload_file(path + '/' + file_name)\n",
    "\n",
    "file_name = 'taxi_zone_lookup.csv'\n",
    "session.resource('s3').Bucket(bucket).Object(os.path.join('datalake', 'taxi_zone_lookup', file_name)).upload_file(path + '/' + file_name)"
   ]
  },
  {
   "cell_type": "markdown",
   "metadata": {},
   "source": [
    "#### Load Taxi Demo database with S3 data from Glue Crawler"
   ]
  },
  {
   "cell_type": "code",
   "execution_count": 4,
   "metadata": {},
   "outputs": [
    {
     "data": {
      "text/plain": [
       "{'ResponseMetadata': {'RequestId': '89a0f512-5ff2-4971-a885-a5b50b395af9',\n",
       "  'HTTPStatusCode': 200,\n",
       "  'HTTPHeaders': {'date': 'Thu, 08 Oct 2020 00:50:14 GMT',\n",
       "   'content-type': 'application/x-amz-json-1.1',\n",
       "   'content-length': '2',\n",
       "   'connection': 'keep-alive',\n",
       "   'x-amzn-requestid': '89a0f512-5ff2-4971-a885-a5b50b395af9'},\n",
       "  'RetryAttempts': 0}}"
      ]
     },
     "execution_count": 4,
     "metadata": {},
     "output_type": "execute_result"
    }
   ],
   "source": [
    "glue.start_crawler(Name=data_crawler)"
   ]
  },
  {
   "cell_type": "code",
   "execution_count": 11,
   "metadata": {},
   "outputs": [
    {
     "name": "stdout",
     "output_type": "stream",
     "text": [
      "Crawler Complete\n"
     ]
    }
   ],
   "source": [
    "crawler_status = glue.get_crawler(Name=data_crawler)['Crawler']['State']\n",
    "\n",
    "while crawler_status not in ('READY'):\n",
    "    crawler_status = glue.get_crawler(Name=data_crawler)['Crawler']['State']\n",
    "    print(crawler_status)\n",
    "    time.sleep(30)\n",
    "    \n",
    "print('Crawler Complete')"
   ]
  },
  {
   "cell_type": "code",
   "execution_count": 25,
   "metadata": {},
   "outputs": [
    {
     "data": {
      "text/html": [
       "<div>\n",
       "<style scoped>\n",
       "    .dataframe tbody tr th:only-of-type {\n",
       "        vertical-align: middle;\n",
       "    }\n",
       "\n",
       "    .dataframe tbody tr th {\n",
       "        vertical-align: top;\n",
       "    }\n",
       "\n",
       "    .dataframe thead th {\n",
       "        text-align: right;\n",
       "    }\n",
       "</style>\n",
       "<table border=\"1\" class=\"dataframe\">\n",
       "  <thead>\n",
       "    <tr style=\"text-align: right;\">\n",
       "      <th></th>\n",
       "      <th>Name</th>\n",
       "      <th>DatabaseName</th>\n",
       "      <th>StorageDescriptor.Columns</th>\n",
       "      <th>StorageDescriptor.Location</th>\n",
       "    </tr>\n",
       "  </thead>\n",
       "  <tbody>\n",
       "    <tr>\n",
       "      <th>0</th>\n",
       "      <td>paymenttype</td>\n",
       "      <td>taxi_demo</td>\n",
       "      <td>[{'Name': 'id', 'Type': 'bigint'}, {'Name': 'name', 'Type': 'string'}]</td>\n",
       "      <td>s3://gluestudiodemostack-datalakebucket0256ea8e-gft03a97jrzl/datalake/paymenttype/</td>\n",
       "    </tr>\n",
       "    <tr>\n",
       "      <th>1</th>\n",
       "      <td>ratecode</td>\n",
       "      <td>taxi_demo</td>\n",
       "      <td>[{'Name': 'id', 'Type': 'bigint'}, {'Name': 'name', 'Type': 'string'}]</td>\n",
       "      <td>s3://gluestudiodemostack-datalakebucket0256ea8e-gft03a97jrzl/datalake/ratecode/</td>\n",
       "    </tr>\n",
       "    <tr>\n",
       "      <th>2</th>\n",
       "      <td>taxi_zone_lookup</td>\n",
       "      <td>taxi_demo</td>\n",
       "      <td>[{'Name': 'locationid', 'Type': 'bigint'}, {'Name': 'borough', 'Type': 'string'}, {'Name': 'zone', 'Type': 'string'}, {'Name': 'service_zone', 'Type': 'string'}]</td>\n",
       "      <td>s3://gluestudiodemostack-datalakebucket0256ea8e-gft03a97jrzl/datalake/taxi_zone_lookup/</td>\n",
       "    </tr>\n",
       "    <tr>\n",
       "      <th>3</th>\n",
       "      <td>yellow</td>\n",
       "      <td>taxi_demo</td>\n",
       "      <td>[{'Name': 'vendorid', 'Type': 'bigint'}, {'Name': 'tpep_pickup_datetime', 'Type': 'string'}, {'Name': 'tpep_dropoff_datetime', 'Type': 'string'}, {'Name': 'passenger_count', 'Type': 'bigint'}, {'Name': 'trip_distance', 'Type': 'double'}, {'Name': 'ratecodeid', 'Type': 'bigint'}, {'Name': 'store_and_fwd_flag', 'Type': 'string'}, {'Name': 'pulocationid', 'Type': 'bigint'}, {'Name': 'dolocationid', 'Type': 'bigint'}, {'Name': 'payment_type', 'Type': 'bigint'}, {'Name': 'fare_amount', 'Type': 'double'}, {'Name': 'extra', 'Type': 'double'}, {'Name': 'mta_tax', 'Type': 'double'}, {'Name': 'tip_amount', 'Type': 'double'}, {'Name': 'tolls_amount', 'Type': 'double'}, {'Name': 'improvement_surcharge', 'Type': 'double'}, {'Name': 'total_amount', 'Type': 'double'}, {'Name': 'congestion_surcharge', 'Type': 'double'}]</td>\n",
       "      <td>s3://gluestudiodemostack-datalakebucket0256ea8e-gft03a97jrzl/datalake/yellow/</td>\n",
       "    </tr>\n",
       "  </tbody>\n",
       "</table>\n",
       "</div>"
      ],
      "text/plain": [
       "               Name DatabaseName  \\\n",
       "0       paymenttype    taxi_demo   \n",
       "1          ratecode    taxi_demo   \n",
       "2  taxi_zone_lookup    taxi_demo   \n",
       "3            yellow    taxi_demo   \n",
       "\n",
       "                                                                                                                                                                                                                                                                                                                                                                                                                                                                                                                                                                                                                                                                                                                                                                                                                         StorageDescriptor.Columns  \\\n",
       "0                                                                                                                                                                                                                                                                                                                                                                                                                                                                                                                                                                                                                                                                                                                                                                           [{'Name': 'id', 'Type': 'bigint'}, {'Name': 'name', 'Type': 'string'}]   \n",
       "1                                                                                                                                                                                                                                                                                                                                                                                                                                                                                                                                                                                                                                                                                                                                                                           [{'Name': 'id', 'Type': 'bigint'}, {'Name': 'name', 'Type': 'string'}]   \n",
       "2                                                                                                                                                                                                                                                                                                                                                                                                                                                                                                                                                                                                                                                                                [{'Name': 'locationid', 'Type': 'bigint'}, {'Name': 'borough', 'Type': 'string'}, {'Name': 'zone', 'Type': 'string'}, {'Name': 'service_zone', 'Type': 'string'}]   \n",
       "3  [{'Name': 'vendorid', 'Type': 'bigint'}, {'Name': 'tpep_pickup_datetime', 'Type': 'string'}, {'Name': 'tpep_dropoff_datetime', 'Type': 'string'}, {'Name': 'passenger_count', 'Type': 'bigint'}, {'Name': 'trip_distance', 'Type': 'double'}, {'Name': 'ratecodeid', 'Type': 'bigint'}, {'Name': 'store_and_fwd_flag', 'Type': 'string'}, {'Name': 'pulocationid', 'Type': 'bigint'}, {'Name': 'dolocationid', 'Type': 'bigint'}, {'Name': 'payment_type', 'Type': 'bigint'}, {'Name': 'fare_amount', 'Type': 'double'}, {'Name': 'extra', 'Type': 'double'}, {'Name': 'mta_tax', 'Type': 'double'}, {'Name': 'tip_amount', 'Type': 'double'}, {'Name': 'tolls_amount', 'Type': 'double'}, {'Name': 'improvement_surcharge', 'Type': 'double'}, {'Name': 'total_amount', 'Type': 'double'}, {'Name': 'congestion_surcharge', 'Type': 'double'}]   \n",
       "\n",
       "                                                                StorageDescriptor.Location  \n",
       "0       s3://gluestudiodemostack-datalakebucket0256ea8e-gft03a97jrzl/datalake/paymenttype/  \n",
       "1          s3://gluestudiodemostack-datalakebucket0256ea8e-gft03a97jrzl/datalake/ratecode/  \n",
       "2  s3://gluestudiodemostack-datalakebucket0256ea8e-gft03a97jrzl/datalake/taxi_zone_lookup/  \n",
       "3            s3://gluestudiodemostack-datalakebucket0256ea8e-gft03a97jrzl/datalake/yellow/  "
      ]
     },
     "execution_count": 25,
     "metadata": {},
     "output_type": "execute_result"
    }
   ],
   "source": [
    "df = pd.json_normalize(glue.get_tables(DatabaseName=database_name)['TableList'])\n",
    "pd.set_option('display.max_colwidth', None)\n",
    "pd.DataFrame(df, columns=[\"Name\", \"DatabaseName\", \"StorageDescriptor.Columns\", \"StorageDescriptor.Location\"])"
   ]
  },
  {
   "cell_type": "markdown",
   "metadata": {},
   "source": [
    "#### Let's start with Glue Studio\n",
    "\n"
   ]
  },
  {
   "cell_type": "code",
   "execution_count": 42,
   "metadata": {},
   "outputs": [
    {
     "data": {
      "text/html": [
       "<style  type=\"text/css\" >\n",
       "</style><table id=\"T_460ff898_0905_11eb_933a_27502135ee21\" ><thead>    <tr>        <th class=\"col_heading level0 col0\" >Link</th>    </tr></thead><tbody>\n",
       "                <tr>\n",
       "                                <td id=\"T_460ff898_0905_11eb_933a_27502135ee21row0_col0\" class=\"data row0 col0\" ><a href=\"https://console.aws.amazon.com/gluestudio/home?region=us-east-1#/\" target=\"_blank\">https://console.aws.amazon.com/gluestudio/home?region=us-east-1#/</a></td>\n",
       "            </tr>\n",
       "    </tbody></table>"
      ],
      "text/plain": [
       "<pandas.io.formats.style.Styler at 0x7f428c223518>"
      ]
     },
     "execution_count": 42,
     "metadata": {},
     "output_type": "execute_result"
    }
   ],
   "source": [
    "df = pd.DataFrame([\"https://console.aws.amazon.com/gluestudio/home?region={0}#/\".format(region)])\n",
    "df.columns = ['Link']\n",
    "def make_clickable(val):\n",
    "    return '<a href=\"{}\" target=\"_blank\">{}</a>'.format(val,val)\n",
    "\n",
    "df.style.hide_index().format(make_clickable)"
   ]
  },
  {
   "cell_type": "code",
   "execution_count": null,
   "metadata": {},
   "outputs": [],
   "source": []
  }
 ],
 "metadata": {
  "kernelspec": {
   "display_name": "conda_python3",
   "language": "python",
   "name": "conda_python3"
  },
  "language_info": {
   "codemirror_mode": {
    "name": "ipython",
    "version": 3
   },
   "file_extension": ".py",
   "mimetype": "text/x-python",
   "name": "python",
   "nbconvert_exporter": "python",
   "pygments_lexer": "ipython3",
   "version": "3.6.10"
  }
 },
 "nbformat": 4,
 "nbformat_minor": 4
}
